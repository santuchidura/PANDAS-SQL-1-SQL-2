{
 "cells": [
  {
   "cell_type": "code",
   "execution_count": 1,
   "metadata": {},
   "outputs": [],
   "source": [
    "# Importing required Libraries\n",
    "import sqlalchemy\n",
    "import pandas as pd\n",
    "from sqlalchemy import create_engine\n",
    "engine = create_engine('sqlite:///dataAdult.db', echo=True)\n",
    "from sqlalchemy.ext.declarative import declarative_base\n",
    "Base = declarative_base()\n",
    "from sqlalchemy import Column, Integer, String\n",
    "from sqlalchemy.orm import sessionmaker"
   ]
  },
  {
   "cell_type": "code",
   "execution_count": 2,
   "metadata": {},
   "outputs": [
    {
     "name": "stdout",
     "output_type": "stream",
     "text": [
      "2019-02-18 19:12:45,430 INFO sqlalchemy.engine.base.Engine SELECT CAST('test plain returns' AS VARCHAR(60)) AS anon_1\n",
      "2019-02-18 19:12:45,431 INFO sqlalchemy.engine.base.Engine ()\n",
      "2019-02-18 19:12:45,433 INFO sqlalchemy.engine.base.Engine SELECT CAST('test unicode returns' AS VARCHAR(60)) AS anon_1\n",
      "2019-02-18 19:12:45,434 INFO sqlalchemy.engine.base.Engine ()\n",
      "2019-02-18 19:12:45,436 INFO sqlalchemy.engine.base.Engine PRAGMA table_info(\"sqladb\")\n",
      "2019-02-18 19:12:45,437 INFO sqlalchemy.engine.base.Engine ()\n"
     ]
    }
   ],
   "source": [
    "# Creating a base class as Adult table\n",
    "class Adult(Base):    \n",
    "    __tablename__='sqladb'\n",
    "    __table_args__ = {'extend_existing': True} \n",
    "    extend_existing=True\n",
    "    age=Column(Integer)\n",
    "    workclass=Column(String)\n",
    "    fnlwgt=Column(Integer,primary_key=True)\n",
    "    education=Column(String)\n",
    "    education_num =Column(Integer)\n",
    "    marital_status=Column(String)\n",
    "    occupation =Column(String)\n",
    "    relationship =Column(String)\n",
    "    race =Column(String)\n",
    "    sex =Column(String)\n",
    "    capital_gain =Column(Integer)\n",
    "    capital_loss  =Column(Integer)\n",
    "    hours_per_week =Column(Integer) \n",
    "    native_country =Column(String)\n",
    "    label =Column(String)\n",
    "\n",
    "Adult.__table__\n",
    "\n",
    "Base.metadata.create_all(engine)\n",
    "session = sessionmaker()\n",
    "session.configure(bind=engine)\n",
    "s = session()\n",
    "try:\n",
    "    data = pd.read_csv(\"https://archive.ics.uci.edu/ml/machine-learning-databases/adult/adult.data\",sep=\",\\s\",header=None,engine='python')\n",
    "    count=0\n",
    "    for index, ad in data.iterrows():\n",
    "        adult_row = Adult1(age=ad['age'],workclass=ad['workclass'],fnlwgt=ad['fnlwgt'],education=ad['education'],education_num=ad['education_num'],marital_status=ad['marital_status'],occupation=ad['occupation'],relationship=ad['relationship'],race=ad['race'],sex=ad['sex'],capital_gain=ad['capital_gain'],capital_loss=ad['capital_loss'],hours_per_week=ad['hours_per_week'],native_country=ad['native_country'],label=ad['label'])\n",
    "        s.add(adult_row)\n",
    "except:\n",
    "    s.rollback() \n",
    "finally:\n",
    "    s.close()\n"
   ]
  },
  {
   "cell_type": "code",
   "execution_count": 3,
   "metadata": {},
   "outputs": [
    {
     "name": "stdout",
     "output_type": "stream",
     "text": [
      "2019-02-18 19:17:25,396 INFO sqlalchemy.engine.base.Engine UPDATE sqladb SET race=? WHERE sqladb.race = ?\n",
      "2019-02-18 19:17:25,398 INFO sqlalchemy.engine.base.Engine ('white_asian', 'Asian-Pac-Islander')\n",
      "2019-02-18 19:17:25,400 INFO sqlalchemy.engine.base.Engine COMMIT\n",
      "2019-02-18 19:17:25,403 INFO sqlalchemy.engine.base.Engine UPDATE sqladb SET label=? WHERE sqladb.native_country = ? AND sqladb.hours_per_week > ?\n",
      "2019-02-18 19:17:25,404 INFO sqlalchemy.engine.base.Engine ('>50K', 'India', 50)\n",
      "2019-02-18 19:17:25,406 INFO sqlalchemy.engine.base.Engine COMMIT\n"
     ]
    },
    {
     "data": {
      "text/plain": [
       "<sqlalchemy.engine.result.ResultProxy at 0x1fd731f1c88>"
      ]
     },
     "execution_count": 3,
     "metadata": {},
     "output_type": "execute_result"
    }
   ],
   "source": [
    "##2 Update Queries\n",
    "##update all asian-pac_islander to white_asian\n",
    "from sqlalchemy import update\n",
    "from sqlalchemy import and_, or_, not_\n",
    "stmt = update(Adult).where(Adult.race=='Asian-Pac-Islander').values(race='white_asian')\n",
    "engine.execute(stmt)\n",
    "## update salary off all employee who works in india for more than 50 hours.perweek\n",
    "stmt = update(Adult).where(and_(Adult.native_country=='India',Adult.hours_per_week>50)).values(label='>50K')\n",
    "engine.execute(stmt)"
   ]
  },
  {
   "cell_type": "code",
   "execution_count": 4,
   "metadata": {},
   "outputs": [
    {
     "name": "stdout",
     "output_type": "stream",
     "text": [
      "2019-02-18 19:17:37,157 INFO sqlalchemy.engine.base.Engine DELETE FROM sqladb WHERE sqladb.workclass = ?\n",
      "2019-02-18 19:17:37,159 INFO sqlalchemy.engine.base.Engine ('?',)\n",
      "2019-02-18 19:17:37,161 INFO sqlalchemy.engine.base.Engine COMMIT\n",
      "2019-02-18 19:17:37,164 INFO sqlalchemy.engine.base.Engine DELETE FROM sqladb WHERE sqladb.workclass = ? AND sqladb.hours_per_week < ?\n",
      "2019-02-18 19:17:37,165 INFO sqlalchemy.engine.base.Engine ('Private', 2)\n",
      "2019-02-18 19:17:37,167 INFO sqlalchemy.engine.base.Engine COMMIT\n"
     ]
    },
    {
     "data": {
      "text/plain": [
       "<sqlalchemy.engine.result.ResultProxy at 0x1fd731fcda0>"
      ]
     },
     "execution_count": 4,
     "metadata": {},
     "output_type": "execute_result"
    }
   ],
   "source": [
    "##2 Delete Queries\n",
    "#delete all rows with no workclass\n",
    "from sqlalchemy import delete\n",
    "stmt_del=delete(Adult).where(Adult.workclass=='?')\n",
    "engine.execute(stmt_del)\n",
    "\n",
    "#delete all row where private employee work less than 2 hour in week\n",
    "stmt_del=delete(Adult).where(and_(Adult.workclass=='Private',Adult.hours_per_week<2))\n",
    "engine.execute(stmt_del)"
   ]
  },
  {
   "cell_type": "code",
   "execution_count": 5,
   "metadata": {},
   "outputs": [
    {
     "name": "stdout",
     "output_type": "stream",
     "text": [
      "2019-02-18 19:17:44,535 INFO sqlalchemy.engine.base.Engine BEGIN (implicit)\n",
      "2019-02-18 19:17:44,538 INFO sqlalchemy.engine.base.Engine SELECT sqladb.age AS sqladb_age, sqladb.workclass AS sqladb_workclass, sqladb.fnlwgt AS sqladb_fnlwgt, sqladb.education AS sqladb_education, sqladb.education_num AS sqladb_education_num, sqladb.marital_status AS sqladb_marital_status, sqladb.occupation AS sqladb_occupation, sqladb.relationship AS sqladb_relationship, sqladb.race AS sqladb_race, sqladb.sex AS sqladb_sex, sqladb.capital_gain AS sqladb_capital_gain, sqladb.capital_loss AS sqladb_capital_loss, sqladb.hours_per_week AS sqladb_hours_per_week, sqladb.native_country AS sqladb_native_country, sqladb.label AS sqladb_label \n",
      "FROM sqladb \n",
      "WHERE sqladb.workclass = ? AND sqladb.sex = ?\n",
      "2019-02-18 19:17:44,539 INFO sqlalchemy.engine.base.Engine ('Private', 'Male')\n"
     ]
    }
   ],
   "source": [
    "##4 Filter Queries\n",
    "#find education for all male who work in private sector\n",
    "private_male_education = s.query(Adult).filter(and_(Adult.workclass=='Private',Adult.sex=='Male')).all()\n",
    "for row in private_male_education:\n",
    "    print(\"\\n\",row.education)"
   ]
  },
  {
   "cell_type": "code",
   "execution_count": 6,
   "metadata": {},
   "outputs": [
    {
     "name": "stdout",
     "output_type": "stream",
     "text": [
      "2019-02-18 19:17:49,928 INFO sqlalchemy.engine.base.Engine SELECT sqladb.age AS sqladb_age, sqladb.workclass AS sqladb_workclass, sqladb.fnlwgt AS sqladb_fnlwgt, sqladb.education AS sqladb_education, sqladb.education_num AS sqladb_education_num, sqladb.marital_status AS sqladb_marital_status, sqladb.occupation AS sqladb_occupation, sqladb.relationship AS sqladb_relationship, sqladb.race AS sqladb_race, sqladb.sex AS sqladb_sex, sqladb.capital_gain AS sqladb_capital_gain, sqladb.capital_loss AS sqladb_capital_loss, sqladb.hours_per_week AS sqladb_hours_per_week, sqladb.native_country AS sqladb_native_country, sqladb.label AS sqladb_label \n",
      "FROM sqladb \n",
      "WHERE sqladb.age < ?\n",
      "2019-02-18 19:17:49,929 INFO sqlalchemy.engine.base.Engine (18,)\n"
     ]
    }
   ],
   "source": [
    "#find all people income working in private sector below age 18\n",
    "private_below_18=s.query(Adult).filter(Adult.age<18)\n",
    "for row in private_below_18:\n",
    "    print(row.label)"
   ]
  },
  {
   "cell_type": "code",
   "execution_count": 7,
   "metadata": {},
   "outputs": [
    {
     "name": "stdout",
     "output_type": "stream",
     "text": [
      "2019-02-18 19:17:53,620 INFO sqlalchemy.engine.base.Engine SELECT avg(sqladb.hours_per_week) AS avg_1 \n",
      "FROM sqladb \n",
      "WHERE sqladb.workclass = ? AND sqladb.sex = ?\n",
      "2019-02-18 19:17:53,621 INFO sqlalchemy.engine.base.Engine ('Private', 'Male')\n",
      "[(None,)]\n"
     ]
    }
   ],
   "source": [
    "## function queries\n",
    "from sqlalchemy import func\n",
    "private_male_avg_hour = s.query(func.avg(Adult.hours_per_week)).filter(and_(Adult.workclass=='Private',Adult.sex=='Male')).all()\n",
    "print(private_male_avg_hour)\n"
   ]
  },
  {
   "cell_type": "code",
   "execution_count": 9,
   "metadata": {},
   "outputs": [
    {
     "name": "stdout",
     "output_type": "stream",
     "text": [
      "2019-02-18 19:18:11,410 INFO sqlalchemy.engine.base.Engine SELECT min(sqladb.age) AS min_a \n",
      "FROM sqladb GROUP BY sqladb.workclass\n",
      "2019-02-18 19:18:11,411 INFO sqlalchemy.engine.base.Engine ()\n"
     ]
    },
    {
     "ename": "IndexError",
     "evalue": "list index out of range",
     "output_type": "error",
     "traceback": [
      "\u001b[1;31m---------------------------------------------------------------------------\u001b[0m",
      "\u001b[1;31mIndexError\u001b[0m                                Traceback (most recent call last)",
      "\u001b[1;32m<ipython-input-9-c1e1a82fdc16>\u001b[0m in \u001b[0;36m<module>\u001b[1;34m()\u001b[0m\n\u001b[0;32m      1\u001b[0m \u001b[1;31m#minimum age by sector\u001b[0m\u001b[1;33m\u001b[0m\u001b[1;33m\u001b[0m\u001b[0m\n\u001b[0;32m      2\u001b[0m \u001b[0mmin_age\u001b[0m\u001b[1;33m=\u001b[0m\u001b[0ms\u001b[0m\u001b[1;33m.\u001b[0m\u001b[0mquery\u001b[0m\u001b[1;33m(\u001b[0m\u001b[0mfunc\u001b[0m\u001b[1;33m.\u001b[0m\u001b[0mmin\u001b[0m\u001b[1;33m(\u001b[0m\u001b[0mAdult\u001b[0m\u001b[1;33m.\u001b[0m\u001b[0mage\u001b[0m\u001b[1;33m)\u001b[0m\u001b[1;33m.\u001b[0m\u001b[0mlabel\u001b[0m\u001b[1;33m(\u001b[0m\u001b[1;34m'min_a'\u001b[0m\u001b[1;33m)\u001b[0m\u001b[1;33m)\u001b[0m\u001b[1;33m.\u001b[0m\u001b[0mgroup_by\u001b[0m\u001b[1;33m(\u001b[0m\u001b[0mAdult\u001b[0m\u001b[1;33m.\u001b[0m\u001b[0mworkclass\u001b[0m\u001b[1;33m)\u001b[0m\u001b[1;33m.\u001b[0m\u001b[0mall\u001b[0m\u001b[1;33m(\u001b[0m\u001b[1;33m)\u001b[0m\u001b[1;33m\u001b[0m\u001b[0m\n\u001b[1;32m----> 3\u001b[1;33m \u001b[0mprint\u001b[0m\u001b[1;33m(\u001b[0m\u001b[0mmin_age\u001b[0m\u001b[1;33m[\u001b[0m\u001b[1;36m0\u001b[0m\u001b[1;33m]\u001b[0m\u001b[1;33m.\u001b[0m\u001b[0mmin_a\u001b[0m\u001b[1;33m)\u001b[0m\u001b[1;33m\u001b[0m\u001b[0m\n\u001b[0m",
      "\u001b[1;31mIndexError\u001b[0m: list index out of range"
     ]
    }
   ],
   "source": [
    "#minimum age by sector\n",
    "min_age=s.query(func.min(Adult.age).label('min_a')).group_by(Adult.workclass).all()\n",
    "print(min_age[0].min_a)"
   ]
  },
  {
   "cell_type": "code",
   "execution_count": null,
   "metadata": {},
   "outputs": [],
   "source": []
  }
 ],
 "metadata": {
  "kernelspec": {
   "display_name": "Python 3",
   "language": "python",
   "name": "python3"
  },
  "language_info": {
   "codemirror_mode": {
    "name": "ipython",
    "version": 3
   },
   "file_extension": ".py",
   "mimetype": "text/x-python",
   "name": "python",
   "nbconvert_exporter": "python",
   "pygments_lexer": "ipython3",
   "version": "3.7.0"
  }
 },
 "nbformat": 4,
 "nbformat_minor": 2
}
